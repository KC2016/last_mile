{
 "cells": [
  {
   "cell_type": "code",
   "execution_count": 56,
   "id": "12977b69-0055-4ba8-9757-5d99b8d0c50e",
   "metadata": {},
   "outputs": [
    {
     "name": "stdout",
     "output_type": "stream",
     "text": [
      "The history saving thread hit an unexpected error (OperationalError('attempt to write a readonly database')).History will not be written to the database.\n"
     ]
    }
   ],
   "source": [
    "# !pip install plotly"
   ]
  },
  {
   "cell_type": "code",
   "execution_count": 57,
   "id": "a0009ad2-8183-4cfb-b26c-d21a20969c60",
   "metadata": {},
   "outputs": [],
   "source": [
    "import pandas as pd\n",
    "import numpy as np\n",
    "import seaborn as sns\n",
    "import matplotlib.pyplot as plt"
   ]
  },
  {
   "cell_type": "code",
   "execution_count": 58,
   "id": "f5785136-e92b-4253-88cb-42053b5f0706",
   "metadata": {},
   "outputs": [],
   "source": [
    "# Read the original csv file, make a copy and make explorations\n",
    "df_original = pd.read_csv(\"data/amazon_delivery.csv\")\n",
    "df = df_original.copy()\n",
    "# df_original.head()\n",
    "# df_original.describe\n",
    "# df_original.info()"
   ]
  },
  {
   "cell_type": "code",
   "execution_count": 59,
   "id": "6e71139c-125d-49e6-9370-be75a9270477",
   "metadata": {},
   "outputs": [],
   "source": [
    "# Convert blank strings (\" \") or empty strings (\"\") to NaN\n",
    "df.replace(r'^\\s*$', np.nan, regex=True, inplace=True)\n",
    "\n",
    "# Proceed to fill NaNs in numeric columns (less than 10%)\n",
    "for col in df.select_dtypes(include='number').columns:\n",
    "    null_ratio = df[col].isnull().mean()\n",
    "    if null_ratio < 0.10:\n",
    "        df[col] = df[col].fillna(df[col].mean())\n"
   ]
  },
  {
   "cell_type": "code",
   "execution_count": 60,
   "id": "6b66473d-1a34-43b7-a072-2b2de8cdb7bf",
   "metadata": {},
   "outputs": [],
   "source": [
    "# # check nulls\n",
    "# for col in df.columns:\n",
    "#     print(col, \" has \", df.isnull().sum(), \"nulls.\")"
   ]
  },
  {
   "cell_type": "code",
   "execution_count": 61,
   "id": "229cddde-5a3b-4875-82a5-e249c76d60cd",
   "metadata": {},
   "outputs": [
    {
     "data": {
      "text/plain": [
       "array(['Sunny', 'Stormy', 'Sandstorms', 'Cloudy', 'Fog', 'Windy', nan],\n",
       "      dtype=object)"
      ]
     },
     "execution_count": 61,
     "metadata": {},
     "output_type": "execute_result"
    }
   ],
   "source": [
    "df[\"Weather\"].unique()"
   ]
  },
  {
   "cell_type": "markdown",
   "id": "9abb6e16-d5bf-4ba1-8aee-bb028db9d01e",
   "metadata": {},
   "source": [
    "#### In weather with blank, filled with unknown"
   ]
  },
  {
   "cell_type": "code",
   "execution_count": 62,
   "id": "3a261f89-037c-4324-8961-308ac96578cd",
   "metadata": {},
   "outputs": [
    {
     "data": {
      "text/plain": [
       "0             Sunny\n",
       "1            Stormy\n",
       "2        Sandstorms\n",
       "3             Sunny\n",
       "4            Cloudy\n",
       "            ...    \n",
       "43734         Windy\n",
       "43735         Windy\n",
       "43736        Cloudy\n",
       "43737        Cloudy\n",
       "43738           Fog\n",
       "Name: Weather, Length: 43739, dtype: object"
      ]
     },
     "execution_count": 62,
     "metadata": {},
     "output_type": "execute_result"
    }
   ],
   "source": [
    "# df['Weather'].fillna('Unknown', inplace=True)\n",
    "\n",
    "df['Weather'] = df['Weather'].fillna('Unknown')\n",
    "df[\"Weather\"]\n"
   ]
  },
  {
   "cell_type": "code",
   "execution_count": 63,
   "id": "0b52d028-a455-4e13-a762-32bf2b1a947f",
   "metadata": {},
   "outputs": [],
   "source": [
    "# Convert blank strings (\" \") or empty strings (\"\") to NaN\n",
    "df.replace(r'^\\s*$', np.nan, regex=True, inplace=True)\n",
    "\n",
    "# Proceed to fill NaNs in numeric columns (less than 10%)\n",
    "for col in df.select_dtypes(include='number').columns:\n",
    "    null_ratio = df[col].isnull().mean()\n",
    "    if null_ratio < 0.10:\n",
    "        df[col] = df[col].fillna(df[col].mean())"
   ]
  },
  {
   "cell_type": "code",
   "execution_count": 64,
   "id": "5ebc6741-b18d-4a5a-924f-64d2e342d48e",
   "metadata": {},
   "outputs": [],
   "source": [
    "# # check nulls\n",
    "# for col in df:\n",
    "#     print(col, \" has \", df.isnull().sum(), \"nulls.\")"
   ]
  },
  {
   "cell_type": "code",
   "execution_count": 65,
   "id": "79d44158-fda0-49c3-b5cf-773c8a6aa77a",
   "metadata": {},
   "outputs": [
    {
     "name": "stdout",
     "output_type": "stream",
     "text": [
      "Order_ID:\n",
      "Order_ID\n",
      "ialx566343618    1\n",
      "akqg208421122    1\n",
      "njpu434582536    1\n",
      "rjto796129700    1\n",
      "zguw716275638    1\n",
      "                ..\n",
      "jlxf819993117    1\n",
      "aevx342135787    1\n",
      "xnek760674819    1\n",
      "cynl434665991    1\n",
      "nsyz997960170    1\n",
      "Name: count, Length: 43739, dtype: int64\n",
      "----------------------------------------\n",
      "Order_Date:\n",
      "Order_Date\n",
      "2022-03-15    1141\n",
      "2022-04-03    1133\n",
      "2022-03-13    1123\n",
      "2022-03-26    1119\n",
      "2022-03-03    1119\n",
      "2022-03-09    1117\n",
      "2022-03-05    1112\n",
      "2022-03-24    1112\n",
      "2022-03-21    1107\n",
      "2022-04-05    1106\n",
      "2022-03-19    1103\n",
      "2022-03-11    1094\n",
      "2022-03-07    1093\n",
      "2022-04-01    1092\n",
      "2022-03-28    1092\n",
      "2022-03-30    1091\n",
      "2022-03-17    1085\n",
      "2022-03-01    1076\n",
      "2022-03-02     969\n",
      "2022-03-16     955\n",
      "2022-03-06     949\n",
      "2022-03-10     947\n",
      "2022-03-20     945\n",
      "2022-04-02     945\n",
      "2022-03-04     944\n",
      "2022-02-11     940\n",
      "2022-03-29     938\n",
      "2022-03-18     932\n",
      "2022-03-27     932\n",
      "2022-03-25     931\n",
      "2022-03-12     931\n",
      "2022-03-14     931\n",
      "2022-03-31     929\n",
      "2022-02-13     924\n",
      "2022-03-23     922\n",
      "2022-03-08     919\n",
      "2022-04-06     918\n",
      "2022-04-04     905\n",
      "2022-02-17     905\n",
      "2022-02-15     904\n",
      "2022-02-12     837\n",
      "2022-02-16     827\n",
      "2022-02-14     826\n",
      "2022-02-18     819\n",
      "Name: count, dtype: int64\n",
      "----------------------------------------\n",
      "Order_Time:\n",
      "Order_Time\n",
      "21:55:00    460\n",
      "17:55:00    453\n",
      "22:20:00    446\n",
      "20:00:00    446\n",
      "21:35:00    445\n",
      "           ... \n",
      "14:15:00     56\n",
      "14:30:00     56\n",
      "16:00:00     52\n",
      "13:20:00     52\n",
      "16:30:00     51\n",
      "Name: count, Length: 177, dtype: int64\n",
      "----------------------------------------\n",
      "Pickup_Time:\n",
      "Pickup_Time\n",
      "21:30:00    481\n",
      "22:50:00    450\n",
      "21:45:00    445\n",
      "22:25:00    441\n",
      "17:55:00    440\n",
      "           ... \n",
      "08:15:00     45\n",
      "16:15:00     43\n",
      "16:10:00     40\n",
      "17:10:00     37\n",
      "16:20:00     36\n",
      "Name: count, Length: 193, dtype: int64\n",
      "----------------------------------------\n",
      "Weather:\n",
      "Weather\n",
      "Fog           7440\n",
      "Stormy        7374\n",
      "Cloudy        7288\n",
      "Sandstorms    7245\n",
      "Windy         7223\n",
      "Sunny         7078\n",
      "Unknown         91\n",
      "Name: count, dtype: int64\n",
      "----------------------------------------\n",
      "Traffic:\n",
      "Traffic\n",
      "Low        14999\n",
      "Jam        13725\n",
      "Medium     10628\n",
      "High        4296\n",
      "NaN           91\n",
      "Name: count, dtype: int64\n",
      "----------------------------------------\n",
      "Vehicle:\n",
      "Vehicle\n",
      "motorcycle     25527\n",
      "scooter        14639\n",
      "van             3558\n",
      "bicycle           15\n",
      "Name: count, dtype: int64\n",
      "----------------------------------------\n",
      "Area:\n",
      "Area\n",
      "Metropolitian     32698\n",
      "Urban              9751\n",
      "Other              1138\n",
      "Semi-Urban          152\n",
      "Name: count, dtype: int64\n",
      "----------------------------------------\n",
      "Category:\n",
      "Category\n",
      "Electronics     2849\n",
      "Books           2824\n",
      "Jewelry         2802\n",
      "Toys            2781\n",
      "Skincare        2772\n",
      "Snacks          2770\n",
      "Outdoors        2747\n",
      "Apparel         2726\n",
      "Sports          2719\n",
      "Grocery         2691\n",
      "Pet Supplies    2690\n",
      "Home            2685\n",
      "Cosmetics       2677\n",
      "Kitchen         2673\n",
      "Clothing        2667\n",
      "Shoes           2666\n",
      "Name: count, dtype: int64\n",
      "----------------------------------------\n"
     ]
    }
   ],
   "source": [
    "# Check unique values in categorical columns (inconsistencies, typos, case issues)\n",
    "for col in df.select_dtypes(include='object').columns:\n",
    "    print(f\"{col}:\")\n",
    "    print(df[col].value_counts(dropna=False))\n",
    "    print(\"-\" * 40)"
   ]
  },
  {
   "cell_type": "code",
   "execution_count": 66,
   "id": "bca6085b-5733-44ce-93e4-527e8ec365a4",
   "metadata": {},
   "outputs": [
    {
     "data": {
      "text/plain": [
       "array(['Clothing', 'Electronics', 'Sports', 'Cosmetics', 'Toys', 'Snacks',\n",
       "       'Shoes', 'Apparel', 'Jewelry', 'Outdoors', 'Grocery', 'Books',\n",
       "       'Kitchen', 'Home', 'Pet Supplies', 'Skincare'], dtype=object)"
      ]
     },
     "execution_count": 66,
     "metadata": {},
     "output_type": "execute_result"
    }
   ],
   "source": [
    "df['Category'].unique()"
   ]
  },
  {
   "cell_type": "code",
   "execution_count": 67,
   "id": "e85a9b86-7326-4b34-8b89-dad4252393a8",
   "metadata": {},
   "outputs": [
    {
     "name": "stdout",
     "output_type": "stream",
     "text": [
      "<class 'pandas.core.series.Series'>\n",
      "RangeIndex: 43739 entries, 0 to 43738\n",
      "Series name: Weather\n",
      "Non-Null Count  Dtype \n",
      "--------------  ----- \n",
      "43739 non-null  object\n",
      "dtypes: object(1)\n",
      "memory usage: 341.8+ KB\n"
     ]
    }
   ],
   "source": [
    "df[\"Weather\"].info()"
   ]
  },
  {
   "cell_type": "markdown",
   "id": "b4eb11f1-2c49-4bce-ab1d-836b60568e01",
   "metadata": {},
   "source": [
    "### Normalize Text (Lowercase & Trim Spaces)"
   ]
  },
  {
   "cell_type": "code",
   "execution_count": 68,
   "id": "c160df03-aa5e-4f79-b88e-1c6b95de30ab",
   "metadata": {},
   "outputs": [
    {
     "data": {
      "text/plain": [
       "Index(['order_id', 'agent_age', 'agent_rating', 'store_latitude',\n",
       "       'store_longitude', 'drop_latitude', 'drop_longitude', 'order_date',\n",
       "       'order_time', 'pickup_time', 'weather', 'traffic', 'vehicle', 'area',\n",
       "       'delivery_time', 'category'],\n",
       "      dtype='object')"
      ]
     },
     "execution_count": 68,
     "metadata": {},
     "output_type": "execute_result"
    }
   ],
   "source": [
    "df.columns = df.columns.str.lower()\n",
    "df.columns = df.columns.str.strip().str.lower().str.replace(' ', '_')\n",
    "df.columns"
   ]
  },
  {
   "cell_type": "code",
   "execution_count": 69,
   "id": "6f1649f8-c715-461c-bab2-8695a12f5ac9",
   "metadata": {},
   "outputs": [
    {
     "data": {
      "text/html": [
       "<div>\n",
       "<style scoped>\n",
       "    .dataframe tbody tr th:only-of-type {\n",
       "        vertical-align: middle;\n",
       "    }\n",
       "\n",
       "    .dataframe tbody tr th {\n",
       "        vertical-align: top;\n",
       "    }\n",
       "\n",
       "    .dataframe thead th {\n",
       "        text-align: right;\n",
       "    }\n",
       "</style>\n",
       "<table border=\"1\" class=\"dataframe\">\n",
       "  <thead>\n",
       "    <tr style=\"text-align: right;\">\n",
       "      <th></th>\n",
       "      <th>order_id</th>\n",
       "      <th>agent_age</th>\n",
       "      <th>agent_rating</th>\n",
       "      <th>store_latitude</th>\n",
       "      <th>store_longitude</th>\n",
       "      <th>drop_latitude</th>\n",
       "      <th>drop_longitude</th>\n",
       "      <th>order_date</th>\n",
       "      <th>order_time</th>\n",
       "      <th>pickup_time</th>\n",
       "      <th>weather</th>\n",
       "      <th>traffic</th>\n",
       "      <th>vehicle</th>\n",
       "      <th>area</th>\n",
       "      <th>delivery_time</th>\n",
       "      <th>category</th>\n",
       "    </tr>\n",
       "  </thead>\n",
       "  <tbody>\n",
       "    <tr>\n",
       "      <th>0</th>\n",
       "      <td>ialx566343618</td>\n",
       "      <td>37</td>\n",
       "      <td>4.9</td>\n",
       "      <td>22.745049</td>\n",
       "      <td>75.892471</td>\n",
       "      <td>22.765049</td>\n",
       "      <td>75.912471</td>\n",
       "      <td>2022-03-19</td>\n",
       "      <td>11:30:00</td>\n",
       "      <td>11:45:00</td>\n",
       "      <td>Sunny</td>\n",
       "      <td>High</td>\n",
       "      <td>motorcycle</td>\n",
       "      <td>Urban</td>\n",
       "      <td>120</td>\n",
       "      <td>Clothing</td>\n",
       "    </tr>\n",
       "    <tr>\n",
       "      <th>1</th>\n",
       "      <td>akqg208421122</td>\n",
       "      <td>34</td>\n",
       "      <td>4.5</td>\n",
       "      <td>12.913041</td>\n",
       "      <td>77.683237</td>\n",
       "      <td>13.043041</td>\n",
       "      <td>77.813237</td>\n",
       "      <td>2022-03-25</td>\n",
       "      <td>19:45:00</td>\n",
       "      <td>19:50:00</td>\n",
       "      <td>Stormy</td>\n",
       "      <td>Jam</td>\n",
       "      <td>scooter</td>\n",
       "      <td>Metropolitian</td>\n",
       "      <td>165</td>\n",
       "      <td>Electronics</td>\n",
       "    </tr>\n",
       "    <tr>\n",
       "      <th>2</th>\n",
       "      <td>njpu434582536</td>\n",
       "      <td>23</td>\n",
       "      <td>4.4</td>\n",
       "      <td>12.914264</td>\n",
       "      <td>77.678400</td>\n",
       "      <td>12.924264</td>\n",
       "      <td>77.688400</td>\n",
       "      <td>2022-03-19</td>\n",
       "      <td>08:30:00</td>\n",
       "      <td>08:45:00</td>\n",
       "      <td>Sandstorms</td>\n",
       "      <td>Low</td>\n",
       "      <td>motorcycle</td>\n",
       "      <td>Urban</td>\n",
       "      <td>130</td>\n",
       "      <td>Sports</td>\n",
       "    </tr>\n",
       "    <tr>\n",
       "      <th>3</th>\n",
       "      <td>rjto796129700</td>\n",
       "      <td>38</td>\n",
       "      <td>4.7</td>\n",
       "      <td>11.003669</td>\n",
       "      <td>76.976494</td>\n",
       "      <td>11.053669</td>\n",
       "      <td>77.026494</td>\n",
       "      <td>2022-04-05</td>\n",
       "      <td>18:00:00</td>\n",
       "      <td>18:10:00</td>\n",
       "      <td>Sunny</td>\n",
       "      <td>Medium</td>\n",
       "      <td>motorcycle</td>\n",
       "      <td>Metropolitian</td>\n",
       "      <td>105</td>\n",
       "      <td>Cosmetics</td>\n",
       "    </tr>\n",
       "    <tr>\n",
       "      <th>4</th>\n",
       "      <td>zguw716275638</td>\n",
       "      <td>32</td>\n",
       "      <td>4.6</td>\n",
       "      <td>12.972793</td>\n",
       "      <td>80.249982</td>\n",
       "      <td>13.012793</td>\n",
       "      <td>80.289982</td>\n",
       "      <td>2022-03-26</td>\n",
       "      <td>13:30:00</td>\n",
       "      <td>13:45:00</td>\n",
       "      <td>Cloudy</td>\n",
       "      <td>High</td>\n",
       "      <td>scooter</td>\n",
       "      <td>Metropolitian</td>\n",
       "      <td>150</td>\n",
       "      <td>Toys</td>\n",
       "    </tr>\n",
       "  </tbody>\n",
       "</table>\n",
       "</div>"
      ],
      "text/plain": [
       "        order_id  agent_age  agent_rating  store_latitude  store_longitude  \\\n",
       "0  ialx566343618         37           4.9       22.745049        75.892471   \n",
       "1  akqg208421122         34           4.5       12.913041        77.683237   \n",
       "2  njpu434582536         23           4.4       12.914264        77.678400   \n",
       "3  rjto796129700         38           4.7       11.003669        76.976494   \n",
       "4  zguw716275638         32           4.6       12.972793        80.249982   \n",
       "\n",
       "   drop_latitude  drop_longitude  order_date order_time pickup_time  \\\n",
       "0      22.765049       75.912471  2022-03-19   11:30:00    11:45:00   \n",
       "1      13.043041       77.813237  2022-03-25   19:45:00    19:50:00   \n",
       "2      12.924264       77.688400  2022-03-19   08:30:00    08:45:00   \n",
       "3      11.053669       77.026494  2022-04-05   18:00:00    18:10:00   \n",
       "4      13.012793       80.289982  2022-03-26   13:30:00    13:45:00   \n",
       "\n",
       "      weather  traffic      vehicle            area  delivery_time  \\\n",
       "0       Sunny    High   motorcycle           Urban             120   \n",
       "1      Stormy     Jam      scooter   Metropolitian             165   \n",
       "2  Sandstorms     Low   motorcycle           Urban             130   \n",
       "3       Sunny  Medium   motorcycle   Metropolitian             105   \n",
       "4      Cloudy    High      scooter   Metropolitian             150   \n",
       "\n",
       "      category  \n",
       "0     Clothing  \n",
       "1  Electronics  \n",
       "2       Sports  \n",
       "3    Cosmetics  \n",
       "4         Toys  "
      ]
     },
     "execution_count": 69,
     "metadata": {},
     "output_type": "execute_result"
    }
   ],
   "source": [
    "df.head()"
   ]
  },
  {
   "cell_type": "code",
   "execution_count": 70,
   "id": "7a0ca891-051e-4b29-9117-4a8f1cbce06e",
   "metadata": {},
   "outputs": [
    {
     "data": {
      "text/plain": [
       "0             Sunny\n",
       "1            Stormy\n",
       "2        Sandstorms\n",
       "3             Sunny\n",
       "4            Cloudy\n",
       "            ...    \n",
       "43734         Windy\n",
       "43735         Windy\n",
       "43736        Cloudy\n",
       "43737        Cloudy\n",
       "43738           Fog\n",
       "Name: weather, Length: 43739, dtype: object"
      ]
     },
     "execution_count": 70,
     "metadata": {},
     "output_type": "execute_result"
    }
   ],
   "source": [
    "df['weather']"
   ]
  },
  {
   "cell_type": "code",
   "execution_count": 71,
   "id": "3b94d729-dc2b-4a40-ba30-1cfa2650b5c9",
   "metadata": {},
   "outputs": [
    {
     "data": {
      "text/plain": [
       "array(['sunny', 'stormy', 'sandstorms', 'cloudy', 'fog', 'windy',\n",
       "       'unknown'], dtype=object)"
      ]
     },
     "execution_count": 71,
     "metadata": {},
     "output_type": "execute_result"
    }
   ],
   "source": [
    "#  Check for unexpected values in categorical columns\n",
    "df['weather'] = df['weather'].str.lower().str.strip()\n",
    "df['weather'].unique()"
   ]
  },
  {
   "cell_type": "markdown",
   "id": "1433c6e8-5481-45d4-a414-bbb0f9e6d80c",
   "metadata": {},
   "source": [
    "### Descriptive Statistics & Distribution Insights: check ranges in numerical columns"
   ]
  },
  {
   "cell_type": "code",
   "execution_count": 72,
   "id": "209b6740-6f45-465f-81bf-b03595925f53",
   "metadata": {},
   "outputs": [
    {
     "data": {
      "text/plain": [
       "array(['Clothing', 'Electronics', 'Sports', 'Cosmetics', 'Toys', 'Snacks',\n",
       "       'Shoes', 'Apparel', 'Jewelry', 'Outdoors', 'Grocery', 'Books',\n",
       "       'Kitchen', 'Home', 'Pet Supplies', 'Skincare'], dtype=object)"
      ]
     },
     "execution_count": 72,
     "metadata": {},
     "output_type": "execute_result"
    }
   ],
   "source": [
    "df['category'].unique()"
   ]
  },
  {
   "cell_type": "code",
   "execution_count": 73,
   "id": "b21f2eae-17f0-4ea9-a25f-cac9125578d5",
   "metadata": {},
   "outputs": [],
   "source": [
    "df_grocery = df[df['category'] == 'Grocery'].copy()\n"
   ]
  },
  {
   "cell_type": "code",
   "execution_count": 74,
   "id": "5b61dc49-af59-47bc-a08f-56e79d486012",
   "metadata": {
    "scrolled": true
   },
   "outputs": [
    {
     "data": {
      "text/html": [
       "<div>\n",
       "<style scoped>\n",
       "    .dataframe tbody tr th:only-of-type {\n",
       "        vertical-align: middle;\n",
       "    }\n",
       "\n",
       "    .dataframe tbody tr th {\n",
       "        vertical-align: top;\n",
       "    }\n",
       "\n",
       "    .dataframe thead th {\n",
       "        text-align: right;\n",
       "    }\n",
       "</style>\n",
       "<table border=\"1\" class=\"dataframe\">\n",
       "  <thead>\n",
       "    <tr style=\"text-align: right;\">\n",
       "      <th></th>\n",
       "      <th>agent_age</th>\n",
       "      <th>agent_rating</th>\n",
       "      <th>store_latitude</th>\n",
       "      <th>store_longitude</th>\n",
       "      <th>drop_latitude</th>\n",
       "      <th>drop_longitude</th>\n",
       "      <th>delivery_time</th>\n",
       "    </tr>\n",
       "  </thead>\n",
       "  <tbody>\n",
       "    <tr>\n",
       "      <th>count</th>\n",
       "      <td>2691.000000</td>\n",
       "      <td>2691.000000</td>\n",
       "      <td>2691.000000</td>\n",
       "      <td>2691.000000</td>\n",
       "      <td>2691.000000</td>\n",
       "      <td>2691.000000</td>\n",
       "      <td>2691.000000</td>\n",
       "    </tr>\n",
       "    <tr>\n",
       "      <th>mean</th>\n",
       "      <td>29.594203</td>\n",
       "      <td>4.632826</td>\n",
       "      <td>17.059678</td>\n",
       "      <td>70.241406</td>\n",
       "      <td>17.256617</td>\n",
       "      <td>70.304539</td>\n",
       "      <td>26.539576</td>\n",
       "    </tr>\n",
       "    <tr>\n",
       "      <th>std</th>\n",
       "      <td>5.800618</td>\n",
       "      <td>0.326973</td>\n",
       "      <td>7.701253</td>\n",
       "      <td>21.988366</td>\n",
       "      <td>7.398233</td>\n",
       "      <td>21.987498</td>\n",
       "      <td>9.498279</td>\n",
       "    </tr>\n",
       "    <tr>\n",
       "      <th>min</th>\n",
       "      <td>20.000000</td>\n",
       "      <td>2.500000</td>\n",
       "      <td>-30.346994</td>\n",
       "      <td>0.000000</td>\n",
       "      <td>0.010000</td>\n",
       "      <td>0.010000</td>\n",
       "      <td>10.000000</td>\n",
       "    </tr>\n",
       "    <tr>\n",
       "      <th>25%</th>\n",
       "      <td>25.000000</td>\n",
       "      <td>4.500000</td>\n",
       "      <td>12.909635</td>\n",
       "      <td>73.170000</td>\n",
       "      <td>12.953781</td>\n",
       "      <td>73.250468</td>\n",
       "      <td>19.000000</td>\n",
       "    </tr>\n",
       "    <tr>\n",
       "      <th>50%</th>\n",
       "      <td>29.000000</td>\n",
       "      <td>4.700000</td>\n",
       "      <td>18.546258</td>\n",
       "      <td>75.902847</td>\n",
       "      <td>18.611440</td>\n",
       "      <td>76.014167</td>\n",
       "      <td>26.000000</td>\n",
       "    </tr>\n",
       "    <tr>\n",
       "      <th>75%</th>\n",
       "      <td>35.000000</td>\n",
       "      <td>4.900000</td>\n",
       "      <td>22.732225</td>\n",
       "      <td>78.062543</td>\n",
       "      <td>22.780040</td>\n",
       "      <td>78.151102</td>\n",
       "      <td>33.000000</td>\n",
       "    </tr>\n",
       "    <tr>\n",
       "      <th>max</th>\n",
       "      <td>50.000000</td>\n",
       "      <td>6.000000</td>\n",
       "      <td>30.914057</td>\n",
       "      <td>88.433187</td>\n",
       "      <td>31.022978</td>\n",
       "      <td>88.563187</td>\n",
       "      <td>54.000000</td>\n",
       "    </tr>\n",
       "  </tbody>\n",
       "</table>\n",
       "</div>"
      ],
      "text/plain": [
       "         agent_age  agent_rating  store_latitude  store_longitude  \\\n",
       "count  2691.000000   2691.000000     2691.000000      2691.000000   \n",
       "mean     29.594203      4.632826       17.059678        70.241406   \n",
       "std       5.800618      0.326973        7.701253        21.988366   \n",
       "min      20.000000      2.500000      -30.346994         0.000000   \n",
       "25%      25.000000      4.500000       12.909635        73.170000   \n",
       "50%      29.000000      4.700000       18.546258        75.902847   \n",
       "75%      35.000000      4.900000       22.732225        78.062543   \n",
       "max      50.000000      6.000000       30.914057        88.433187   \n",
       "\n",
       "       drop_latitude  drop_longitude  delivery_time  \n",
       "count    2691.000000     2691.000000    2691.000000  \n",
       "mean       17.256617       70.304539      26.539576  \n",
       "std         7.398233       21.987498       9.498279  \n",
       "min         0.010000        0.010000      10.000000  \n",
       "25%        12.953781       73.250468      19.000000  \n",
       "50%        18.611440       76.014167      26.000000  \n",
       "75%        22.780040       78.151102      33.000000  \n",
       "max        31.022978       88.563187      54.000000  "
      ]
     },
     "execution_count": 74,
     "metadata": {},
     "output_type": "execute_result"
    }
   ],
   "source": [
    "df_grocery.describe()"
   ]
  },
  {
   "cell_type": "code",
   "execution_count": 75,
   "id": "2a67f6d9-bab7-4a9e-91fd-664856ee7d06",
   "metadata": {},
   "outputs": [
    {
     "name": "stdout",
     "output_type": "stream",
     "text": [
      "Agent:\n",
      "        Most delivery agents are between 25 and 35 years old. acceptable range, but 50 is upper extreme.\n",
      "        The distribution is likely slightly symmetric or slightly right-skewed.\n",
      "        A few agents are close to 50 years old,  but they’re likely less frequent (possibly tapering off in the histogram's tail).\n",
      "        It looks like a mild bell curve.\n",
      "        \n",
      "Agent Rating: \n",
      "        The majority of agents are highly rated (most ratings are between 4.5 and 4.9).\n",
      "        There's a potential outlier at 6.0, which may indicate:\n",
      "            - A data entry error (if the scale should stop at 5) [probably]\n",
      "            - Or a different rating logic\n",
      "        Histogram probably shows a peak around 4.7–4.9 and a sharp drop after.\n",
      "        \n",
      "Store/drop latitude & longitude:\n",
      "      Some extreme values (e.g., negative latitudes or 0.0 longitude) might not be real. \n",
      "      Histogram likely shows clusters, but visualizing on map (scatterplot) is far better.\n",
      "      \n",
      "Deliverym Time:\n",
      "        Most deliveries take between 19 and 33 minutes.\n",
      "        Very balanced: mean ≈ median → distribution is probably close to normal.\n",
      "        A few faster (10–15 min) and slower (40+ min) deliveries may be outliers.\n",
      "        Histogram likely shows a slight peak around 25–30, tapering after.\n",
      "        \n"
     ]
    }
   ],
   "source": [
    "print(\"\"\"Agent:\n",
    "        Most delivery agents are between 25 and 35 years old. acceptable range, but 50 is upper extreme.\n",
    "        The distribution is likely slightly symmetric or slightly right-skewed.\n",
    "        A few agents are close to 50 years old,  but they’re likely less frequent (possibly tapering off in the histogram's tail).\n",
    "        It looks like a mild bell curve.\n",
    "        \"\"\")\n",
    "\n",
    "print(\"\"\"Agent Rating: \n",
    "        The majority of agents are highly rated (most ratings are between 4.5 and 4.9).\n",
    "        There's a potential outlier at 6.0, which may indicate:\n",
    "            - A data entry error (if the scale should stop at 5) [probably]\n",
    "            - Or a different rating logic\n",
    "        Histogram probably shows a peak around 4.7–4.9 and a sharp drop after.\n",
    "        \"\"\")\n",
    "\n",
    "print(\"\"\"Store/drop latitude & longitude:\n",
    "      Some extreme values (e.g., negative latitudes or 0.0 longitude) might not be real. \n",
    "      Histogram likely shows clusters, but visualizing on map (scatterplot) is far better.\n",
    "      \"\"\")\n",
    "\n",
    "\n",
    "print(\"\"\"Deliverym Time:\n",
    "        Most deliveries take between 19 and 33 minutes.\n",
    "        Very balanced: mean ≈ median → distribution is probably close to normal.\n",
    "        A few faster (10–15 min) and slower (40+ min) deliveries may be outliers.\n",
    "        Histogram likely shows a slight peak around 25–30, tapering after.\n",
    "        \"\"\")\n",
    "      "
   ]
  },
  {
   "cell_type": "code",
   "execution_count": 76,
   "id": "2bdd3d1d-7277-49e1-89e9-cfa718dd517c",
   "metadata": {},
   "outputs": [
    {
     "data": {
      "image/png": "[encoded data removed]",
      "text/plain": [
       "<Figure size 600x400 with 1 Axes>"
      ]
     },
     "metadata": {},
     "output_type": "display_data"
    },
    {
     "data": {
      "image/png": "[encoded data removed]",
      "text/plain": [
       "<Figure size 600x400 with 1 Axes>"
      ]
     },
     "metadata": {},
     "output_type": "display_data"
    },
    {
     "data": {
      "image/png": "[encoded data removed]",
      "text/plain": [
       "<Figure size 600x400 with 1 Axes>"
      ]
     },
     "metadata": {},
     "output_type": "display_data"
    }
   ],
   "source": [
    "# visualize distributions in histograms\n",
    "numeric_cols = ['agent_age', 'agent_rating', 'delivery_time']\n",
    "\n",
    "for col in numeric_cols:\n",
    "    plt.figure(figsize=(6, 4))\n",
    "    plt.hist(df_grocery[col], bins=30, color='skyblue', alpha=0.8)\n",
    "    plt.title(f'{col.replace(\"_\", \" \").title()} Distribution (Grocery)', fontsize=14)\n",
    "    plt.xlabel(col.replace(\"_\", \" \").title(), fontsize=12)\n",
    "    plt.ylabel('Frequency', fontsize=12)\n",
    "    plt.xticks(fontsize=10)\n",
    "    plt.yticks(fontsize=10)\n",
    "    plt.tight_layout()\n",
    "    plt.show()"
   ]
  },
  {
   "cell_type": "code",
   "execution_count": 77,
   "id": "b11ba333-9ac1-48c9-b4cc-6665b114e17d",
   "metadata": {},
   "outputs": [
    {
     "data": {
      "text/plain": [
       "Index(['order_id', 'agent_age', 'agent_rating', 'store_latitude',\n",
       "       'store_longitude', 'drop_latitude', 'drop_longitude', 'order_date',\n",
       "       'order_time', 'pickup_time', 'weather', 'traffic', 'vehicle', 'area',\n",
       "       'delivery_time', 'category'],\n",
       "      dtype='object')"
      ]
     },
     "execution_count": 77,
     "metadata": {},
     "output_type": "execute_result"
    }
   ],
   "source": [
    "# Check the columns\n",
    "df.columns"
   ]
  },
  {
   "cell_type": "markdown",
   "id": "06e69d94-bd4e-4da0-a88d-6c6d3155e49b",
   "metadata": {},
   "source": [
    "### Demand vs traffic"
   ]
  },
  {
   "cell_type": "code",
   "execution_count": 78,
   "id": "58686fe3-af4d-4fd0-94fb-41b917b6209c",
   "metadata": {},
   "outputs": [
    {
     "data": {
      "text/plain": [
       "array(['High ', 'Jam ', 'Low ', 'Medium ', 'NaN '], dtype=object)"
      ]
     },
     "execution_count": 78,
     "metadata": {},
     "output_type": "execute_result"
    }
   ],
   "source": [
    "# check unique values in traffic\n",
    "df['traffic'].unique()"
   ]
  },
  {
   "cell_type": "code",
   "execution_count": 79,
   "id": "be9cf13d-2212-4844-aaec-423dd173eee9",
   "metadata": {},
   "outputs": [],
   "source": [
    "df_grocery['traffic'] = (\n",
    "    df_grocery['traffic']\n",
    "    .astype(str)                      # in case of NaN\n",
    "    .str.strip()                      # remove leading/trailing spaces\n",
    "    .str.title()                      # e.g. \"high\" → \"High\"\n",
    "    .replace('Nan', pd.NA)            # restore missing values\n",
    ")\n"
   ]
  },
  {
   "cell_type": "code",
   "execution_count": 80,
   "id": "8df113ce-5142-474b-bf63-378b1f8f7ae4",
   "metadata": {},
   "outputs": [
    {
     "data": {
      "text/plain": [
       "array(['High', 'Jam', 'Medium', 'Low', <NA>], dtype=object)"
      ]
     },
     "execution_count": 80,
     "metadata": {},
     "output_type": "execute_result"
    }
   ],
   "source": [
    "df_grocery['traffic'].unique()\n"
   ]
  },
  {
   "cell_type": "code",
   "execution_count": 81,
   "id": "b641fa1f-0d8a-49cb-8e68-f33d477527db",
   "metadata": {},
   "outputs": [
    {
     "name": "stderr",
     "output_type": "stream",
     "text": [
      "/var/folders/xs/pmxwbppj14b4v76l4llp17n80000gp/T/ipykernel_46046/3312862503.py:3: FutureWarning: \n",
      "\n",
      "Passing `palette` without assigning `hue` is deprecated and will be removed in v0.14.0. Assign the `x` variable to `hue` and set `legend=False` for the same effect.\n",
      "\n",
      "  sns.boxplot(\n",
      "/var/folders/xs/pmxwbppj14b4v76l4llp17n80000gp/T/ipykernel_46046/3312862503.py:12: UserWarning: Glyph 128678 (\\N{VERTICAL TRAFFIC LIGHT}) missing from font(s) DejaVu Sans.\n",
      "  plt.tight_layout()\n",
      "/Users/kcondeixa/opt/anaconda3/envs/amazon_delivery/lib/python3.11/site-packages/IPython/core/pylabtools.py:170: UserWarning: Glyph 128678 (\\N{VERTICAL TRAFFIC LIGHT}) missing from font(s) DejaVu Sans.\n",
      "  fig.canvas.print_figure(bytes_io, **kw)\n"
     ]
    },
    {
     "data": {
      "image/png": "[encoded data removed]",
      "text/plain": [
       "<Figure size 700x400 with 1 Axes>"
      ]
     },
     "metadata": {},
     "output_type": "display_data"
    }
   ],
   "source": [
    "# Plot\n",
    "plt.figure(figsize=(7, 4))\n",
    "sns.boxplot(\n",
    "    data=df_grocery,\n",
    "    x='traffic',\n",
    "    y='delivery_time',\n",
    "    palette='Blues'\n",
    ")\n",
    "plt.title('🚦 Delivery Time by Traffic Level')\n",
    "plt.xlabel('Traffic Level')\n",
    "plt.ylabel('Delivery Time (minutes)')\n",
    "plt.tight_layout()\n",
    "plt.show()"
   ]
  },
  {
   "cell_type": "code",
   "execution_count": 82,
   "id": "700b0b04-3b1c-4fb5-9ff8-bc7dc6857d7a",
   "metadata": {},
   "outputs": [],
   "source": [
    "df_grocery['pickup_hour'] = pd.to_datetime(\n",
    "    df_grocery['pickup_time'],\n",
    "    format='%H:%M:%S',\n",
    "    errors='coerce'\n",
    ").dt.hour\n"
   ]
  },
  {
   "cell_type": "code",
   "execution_count": 83,
   "id": "2271ac73-c0cb-4559-8990-1714cb100378",
   "metadata": {},
   "outputs": [
    {
     "name": "stderr",
     "output_type": "stream",
     "text": [
      "/var/folders/xs/pmxwbppj14b4v76l4llp17n80000gp/T/ipykernel_46046/3381003718.py:7: UserWarning: Glyph 128667 (\\N{ARTICULATED LORRY}) missing from font(s) DejaVu Sans.\n",
      "  plt.tight_layout()\n",
      "/Users/kcondeixa/opt/anaconda3/envs/amazon_delivery/lib/python3.11/site-packages/IPython/core/pylabtools.py:170: UserWarning: Glyph 128667 (\\N{ARTICULATED LORRY}) missing from font(s) DejaVu Sans.\n",
      "  fig.canvas.print_figure(bytes_io, **kw)\n"
     ]
    },
    {
     "data": {
      "image/png": "[encoded data removed]",
      "text/plain": [
       "<Figure size 1000x500 with 1 Axes>"
      ]
     },
     "metadata": {},
     "output_type": "display_data"
    }
   ],
   "source": [
    "plt.figure(figsize=(10, 5))\n",
    "sns.countplot(data=df_grocery, x='pickup_hour', hue='traffic', palette='Blues')\n",
    "plt.title('🚛 Traffic Conditions by Pickup Hour')\n",
    "plt.xlabel('Pickup Hour (0–23)')\n",
    "plt.ylabel('Number of Deliveries')\n",
    "plt.legend(title='Traffic Level')\n",
    "plt.tight_layout()\n",
    "plt.show()\n"
   ]
  },
  {
   "cell_type": "code",
   "execution_count": 84,
   "id": "26eb734c-80a7-4470-a88d-97ac8414408a",
   "metadata": {},
   "outputs": [
    {
     "name": "stdout",
     "output_type": "stream",
     "text": [
      "\n",
      "Traffic and Demand Insights\n",
      "• The highest traffic congestion (traffic jam) occurs between 7 PM and 10 PM.\n",
      "• Elevated traffic is also observed between 11 AM and 1 PM, likely due to midday activity.\n",
      "• The peak hours for grocery delivery demand are 5 PM to 9 PM, with 9 PM, 8 PM, and 6 PM showing the highest volume.\n",
      "\n"
     ]
    }
   ],
   "source": [
    "print(\"\"\"\n",
    "Traffic and Demand Insights\n",
    "• The highest traffic congestion (traffic jam) occurs between 7 PM and 10 PM.\n",
    "• Elevated traffic is also observed between 11 AM and 1 PM, likely due to midday activity.\n",
    "• The peak hours for grocery delivery demand are 5 PM to 9 PM, with 9 PM, 8 PM, and 6 PM showing the highest volume.\n",
    "\"\"\")\n"
   ]
  },
  {
   "cell_type": "markdown",
   "id": "b2c29c4e-1f24-4c2e-a5ff-a14fa21c53d0",
   "metadata": {},
   "source": [
    "#### Checking weekdays\n"
   ]
  },
  {
   "cell_type": "code",
   "execution_count": 85,
   "id": "2035a829-0de5-4621-b178-c485bcb6fcd1",
   "metadata": {},
   "outputs": [],
   "source": [
    "# Convert to datetime if needed\n",
    "df_grocery['order_date'] = pd.to_datetime(df_grocery['order_date'], errors='coerce')\n",
    "\n",
    "# Extract weekday name\n",
    "df_grocery['weekday'] = df_grocery['order_date'].dt.day_name()\n"
   ]
  },
  {
   "cell_type": "code",
   "execution_count": 86,
   "id": "dcde7da1-1683-4389-90e5-5a8c82c435d3",
   "metadata": {},
   "outputs": [],
   "source": [
    "weekday_order = ['Monday', 'Tuesday', 'Wednesday', 'Thursday', 'Friday', 'Saturday', 'Sunday']\n"
   ]
  },
  {
   "cell_type": "code",
   "execution_count": 87,
   "id": "3f28a906-e150-4fd9-83e5-8d7154cd872f",
   "metadata": {},
   "outputs": [
    {
     "name": "stderr",
     "output_type": "stream",
     "text": [
      "/var/folders/xs/pmxwbppj14b4v76l4llp17n80000gp/T/ipykernel_46046/686419104.py:6: UserWarning: Glyph 128722 (\\N{SHOPPING TROLLEY}) missing from font(s) DejaVu Sans.\n",
      "  plt.tight_layout()\n",
      "/Users/kcondeixa/opt/anaconda3/envs/amazon_delivery/lib/python3.11/site-packages/IPython/core/pylabtools.py:170: UserWarning: Glyph 128722 (\\N{SHOPPING TROLLEY}) missing from font(s) DejaVu Sans.\n",
      "  fig.canvas.print_figure(bytes_io, **kw)\n"
     ]
    },
    {
     "data": {
      "image/png": "[encoded data removed]",
      "text/plain": [
       "<Figure size 1000x500 with 1 Axes>"
      ]
     },
     "metadata": {},
     "output_type": "display_data"
    }
   ],
   "source": [
    "plt.figure(figsize=(10, 5))\n",
    "sns.countplot(data=df_grocery, x='weekday', order=weekday_order)\n",
    "plt.title('🛒 Grocery Deliveries by Weekday')\n",
    "plt.xlabel('Weekday')\n",
    "plt.ylabel('Number of Deliveries')\n",
    "plt.tight_layout()\n",
    "plt.show()"
   ]
  },
  {
   "cell_type": "code",
   "execution_count": 88,
   "id": "cff346fe-9823-4d71-84f7-c4ccd2489b84",
   "metadata": {},
   "outputs": [
    {
     "name": "stdout",
     "output_type": "stream",
     "text": [
      "Number of weeks in dataset: 8\n"
     ]
    }
   ],
   "source": [
    "df_grocery['order_date'] = pd.to_datetime(df_grocery['order_date'], errors='coerce')\n",
    "weeks = df_grocery['order_date'].dt.isocalendar().week.nunique()\n",
    "print(f\"Number of weeks in dataset: {weeks}\")\n"
   ]
  },
  {
   "cell_type": "code",
   "execution_count": 89,
   "id": "31efbb51-d0d4-4852-9b40-37a18dd76e85",
   "metadata": {},
   "outputs": [
    {
     "name": "stdout",
     "output_type": "stream",
     "text": [
      "weekday\n",
      "Monday       60.67\n",
      "Tuesday      64.17\n",
      "Wednesday    62.29\n",
      "Thursday     61.17\n",
      "Friday       62.71\n",
      "Saturday     53.50\n",
      "Sunday       63.17\n",
      "Name: order_count, dtype: float64\n"
     ]
    }
   ],
   "source": [
    "# Extract week and weekday\n",
    "df_grocery['week'] = df_grocery['order_date'].dt.isocalendar().week\n",
    "df_grocery['weekday'] = df_grocery['order_date'].dt.day_name()\n",
    "\n",
    "# Group by week and weekday\n",
    "weekly_counts = df_grocery.groupby(['week', 'weekday']).size().reset_index(name='order_count')\n",
    "\n",
    "# Now compute the average per weekday\n",
    "weekday_avg = weekly_counts.groupby('weekday')['order_count'].mean().reindex(weekday_order)\n",
    "print(weekday_avg.round(2))\n"
   ]
  },
  {
   "cell_type": "code",
   "execution_count": 90,
   "id": "682930a2-091b-4ffb-b95f-c0ad78dc8a40",
   "metadata": {},
   "outputs": [
    {
     "name": "stdout",
     "output_type": "stream",
     "text": [
      "\n",
      "Weekday Delivery Demand (Average)\n",
      "\n",
      "• Wednesday and Friday show the highest grocery delivery demand, averaging around 62 orders per week.\n",
      "• Saturday has the lowest average volume, with approximately 53 orders.\n",
      "• Overall, delivery demand is relatively balanced across the week, with no extreme fluctuations.\n",
      "\n"
     ]
    }
   ],
   "source": [
    "print(\"\"\"\n",
    "Weekday Delivery Demand (Average)\n",
    "\n",
    "• Wednesday and Friday show the highest grocery delivery demand, averaging around 62 orders per week.\n",
    "• Saturday has the lowest average volume, with approximately 53 orders.\n",
    "• Overall, delivery demand is relatively balanced across the week, with no extreme fluctuations.\n",
    "\"\"\")"
   ]
  },
  {
   "cell_type": "code",
   "execution_count": 91,
   "id": "bbad1a7b-9ebf-4a7b-bbeb-e6540acf25cd",
   "metadata": {},
   "outputs": [
    {
     "name": "stderr",
     "output_type": "stream",
     "text": [
      "/var/folders/xs/pmxwbppj14b4v76l4llp17n80000gp/T/ipykernel_46046/2874038440.py:7: UserWarning: Glyph 128678 (\\N{VERTICAL TRAFFIC LIGHT}) missing from font(s) DejaVu Sans.\n",
      "  plt.tight_layout()\n",
      "/Users/kcondeixa/opt/anaconda3/envs/amazon_delivery/lib/python3.11/site-packages/IPython/core/pylabtools.py:170: UserWarning: Glyph 128678 (\\N{VERTICAL TRAFFIC LIGHT}) missing from font(s) DejaVu Sans.\n",
      "  fig.canvas.print_figure(bytes_io, **kw)\n"
     ]
    },
    {
     "data": {
      "image/png": "[encoded data removed]",
      "text/plain": [
       "<Figure size 1000x500 with 1 Axes>"
      ]
     },
     "metadata": {},
     "output_type": "display_data"
    }
   ],
   "source": [
    "plt.figure(figsize=(10, 5))\n",
    "sns.countplot(data=df_grocery, x='weekday', hue='traffic', order=weekday_order, palette='Blues')\n",
    "plt.title('🚦 Traffic Levels by Weekday')\n",
    "plt.xlabel('Weekday')\n",
    "plt.ylabel('Number of Deliveries')\n",
    "plt.legend(title='Traffic')\n",
    "plt.tight_layout()\n",
    "plt.show()\n"
   ]
  },
  {
   "cell_type": "markdown",
   "id": "79653e15-d370-4dc5-8093-591389484abe",
   "metadata": {},
   "source": [
    "### Checking the coordinates: are they valid? Where are they?\n",
    "\n",
    "Latitude and longitude values cluster around:\n",
    "- Latitude ~17–22\n",
    "- Longitude ~70–78\n",
    "\n",
    "These coordinates are consistent with locations in Western to Central India, such as:\n",
    "- Mumbai (Lat ~19, Lon ~72.8)\n",
    "- Pune (Lat ~18.5, Lon ~73.8)\n",
    "- Hyderabad (Lat ~17.4, Lon ~78.4)\n",
    "- Ahmedabad (Lat ~23, Lon ~72.6)\n",
    "\n",
    "So unless this is synthetic or anonymized data, it's very likely intended to simulate an Indian logistics operation."
   ]
  },
  {
   "cell_type": "markdown",
   "id": "bac05de2-037e-4013-9518-d3bd1ff4e552",
   "metadata": {},
   "source": [
    "### Flag Outliers using IRQ\n",
    "What this does:\n",
    "- It filters out rows where the value is below Q1 - 1.5×IQR or above Q3 + 1.5×IQR.\n",
    "- You’ll get a cleaner dataset that’s better suited for plotting and statistical analysis.\n",
    "- You can see how many rows were removed from each column.\n",
    "\n"
   ]
  },
  {
   "cell_type": "code",
   "execution_count": 92,
   "id": "c7a6f528-09c0-4176-9ca6-f67201ad2052",
   "metadata": {},
   "outputs": [],
   "source": [
    "# def remove_outliers_iqr(df, column):\n",
    "#     Q1 = df[column].quantile(0.25)\n",
    "#     Q3 = df[column].quantile(0.75)\n",
    "#     IQR = Q3 - Q1\n",
    "#     lower_bound = Q1 - 1.5 * IQR\n",
    "#     upper_bound = Q3 + 1.5 * IQR\n",
    "#     return df[(df[column] >= lower_bound) & (df[column] <= upper_bound)]\n"
   ]
  },
  {
   "cell_type": "code",
   "execution_count": 93,
   "id": "3e498dfe-8017-4088-a46b-22f57cb47989",
   "metadata": {},
   "outputs": [],
   "source": [
    "# cols_to_clean = ['agent_age', 'agent_rating', 'delivery_time']\n",
    "\n",
    "# # Apply the function sequentially\n",
    "# for col in cols_to_clean:\n",
    "#     original_len = len(df_grocery)\n",
    "#     df_grocery = remove_outliers_iqr(df_grocery, col)\n",
    "#     new_len = len(df_grocery)\n",
    "#     print(f\"{col}: removed {original_len - new_len} outliers\")\n"
   ]
  },
  {
   "cell_type": "markdown",
   "id": "5396f8d6-157f-4000-ac3b-11d80ea2ef98",
   "metadata": {},
   "source": [
    "#### Outliers in Ratings\n",
    "\n",
    "- Removed 3 invalid ratings above 5 (max scale confirmed to be 5 stars). \n",
    "These likely reflect input errors or data noise and were excluded from further analysis.\n",
    "- Keep the few agents over 40 years old.\n",
    "- I raised a red flag in some cases to analyze them further."
   ]
  },
  {
   "cell_type": "code",
   "execution_count": 94,
   "id": "c6ba9be9-fc98-414c-a6d6-1f37762fb783",
   "metadata": {},
   "outputs": [],
   "source": [
    "# df_grocery['weather'].unique()"
   ]
  },
  {
   "cell_type": "code",
   "execution_count": 95,
   "id": "a9898f85-ef93-4b65-bd00-4343bd68677a",
   "metadata": {},
   "outputs": [
    {
     "data": {
      "text/html": [
       "<div>\n",
       "<style scoped>\n",
       "    .dataframe tbody tr th:only-of-type {\n",
       "        vertical-align: middle;\n",
       "    }\n",
       "\n",
       "    .dataframe tbody tr th {\n",
       "        vertical-align: top;\n",
       "    }\n",
       "\n",
       "    .dataframe thead th {\n",
       "        text-align: right;\n",
       "    }\n",
       "</style>\n",
       "<table border=\"1\" class=\"dataframe\">\n",
       "  <thead>\n",
       "    <tr style=\"text-align: right;\">\n",
       "      <th></th>\n",
       "      <th>order_id</th>\n",
       "      <th>agent_age</th>\n",
       "      <th>agent_rating</th>\n",
       "      <th>store_latitude</th>\n",
       "      <th>store_longitude</th>\n",
       "      <th>drop_latitude</th>\n",
       "      <th>drop_longitude</th>\n",
       "      <th>order_date</th>\n",
       "      <th>order_time</th>\n",
       "      <th>pickup_time</th>\n",
       "      <th>weather</th>\n",
       "      <th>traffic</th>\n",
       "      <th>vehicle</th>\n",
       "      <th>area</th>\n",
       "      <th>delivery_time</th>\n",
       "      <th>category</th>\n",
       "      <th>pickup_hour</th>\n",
       "      <th>weekday</th>\n",
       "      <th>week</th>\n",
       "    </tr>\n",
       "  </thead>\n",
       "  <tbody>\n",
       "    <tr>\n",
       "      <th>5142</th>\n",
       "      <td>dazy306268524</td>\n",
       "      <td>50</td>\n",
       "      <td>6.0</td>\n",
       "      <td>12.914264</td>\n",
       "      <td>77.678400</td>\n",
       "      <td>13.024264</td>\n",
       "      <td>77.788400</td>\n",
       "      <td>2022-04-06</td>\n",
       "      <td>NaN</td>\n",
       "      <td>20:55:00</td>\n",
       "      <td>unknown</td>\n",
       "      <td>&lt;NA&gt;</td>\n",
       "      <td>van</td>\n",
       "      <td>Metropolitian</td>\n",
       "      <td>18</td>\n",
       "      <td>Grocery</td>\n",
       "      <td>20</td>\n",
       "      <td>Wednesday</td>\n",
       "      <td>14</td>\n",
       "    </tr>\n",
       "    <tr>\n",
       "      <th>11807</th>\n",
       "      <td>csad638654181</td>\n",
       "      <td>50</td>\n",
       "      <td>6.0</td>\n",
       "      <td>21.186608</td>\n",
       "      <td>72.794136</td>\n",
       "      <td>21.206608</td>\n",
       "      <td>72.814136</td>\n",
       "      <td>2022-03-01</td>\n",
       "      <td>NaN</td>\n",
       "      <td>11:25:00</td>\n",
       "      <td>unknown</td>\n",
       "      <td>&lt;NA&gt;</td>\n",
       "      <td>scooter</td>\n",
       "      <td>Urban</td>\n",
       "      <td>22</td>\n",
       "      <td>Grocery</td>\n",
       "      <td>11</td>\n",
       "      <td>Tuesday</td>\n",
       "      <td>9</td>\n",
       "    </tr>\n",
       "    <tr>\n",
       "      <th>37001</th>\n",
       "      <td>wwew959985650</td>\n",
       "      <td>50</td>\n",
       "      <td>6.0</td>\n",
       "      <td>0.000000</td>\n",
       "      <td>0.000000</td>\n",
       "      <td>0.090000</td>\n",
       "      <td>0.090000</td>\n",
       "      <td>2022-04-06</td>\n",
       "      <td>NaN</td>\n",
       "      <td>19:20:00</td>\n",
       "      <td>unknown</td>\n",
       "      <td>&lt;NA&gt;</td>\n",
       "      <td>van</td>\n",
       "      <td>Metropolitian</td>\n",
       "      <td>36</td>\n",
       "      <td>Grocery</td>\n",
       "      <td>19</td>\n",
       "      <td>Wednesday</td>\n",
       "      <td>14</td>\n",
       "    </tr>\n",
       "  </tbody>\n",
       "</table>\n",
       "</div>"
      ],
      "text/plain": [
       "            order_id  agent_age  agent_rating  store_latitude  \\\n",
       "5142   dazy306268524         50           6.0       12.914264   \n",
       "11807  csad638654181         50           6.0       21.186608   \n",
       "37001  wwew959985650         50           6.0        0.000000   \n",
       "\n",
       "       store_longitude  drop_latitude  drop_longitude order_date order_time  \\\n",
       "5142         77.678400      13.024264       77.788400 2022-04-06       NaN    \n",
       "11807        72.794136      21.206608       72.814136 2022-03-01       NaN    \n",
       "37001         0.000000       0.090000        0.090000 2022-04-06       NaN    \n",
       "\n",
       "      pickup_time  weather traffic   vehicle            area  delivery_time  \\\n",
       "5142     20:55:00  unknown    <NA>       van  Metropolitian              18   \n",
       "11807    11:25:00  unknown    <NA>  scooter           Urban              22   \n",
       "37001    19:20:00  unknown    <NA>       van  Metropolitian              36   \n",
       "\n",
       "      category  pickup_hour    weekday  week  \n",
       "5142   Grocery           20  Wednesday    14  \n",
       "11807  Grocery           11    Tuesday     9  \n",
       "37001  Grocery           19  Wednesday    14  "
      ]
     },
     "execution_count": 95,
     "metadata": {},
     "output_type": "execute_result"
    }
   ],
   "source": [
    "df_grocery[df_grocery['agent_rating'] > 5]"
   ]
  },
  {
   "cell_type": "code",
   "execution_count": 96,
   "id": "bc5e05ed-c42d-4460-8d11-9413d23caf38",
   "metadata": {},
   "outputs": [],
   "source": [
    "# Store the outliers separately (optional, for traceability)\n",
    "rating_outliers = df_grocery[df_grocery['agent_rating'] > 5]\n",
    "\n",
    "# Then remove them\n",
    "df_grocery = df_grocery[df_grocery['agent_rating'] <= 5]\n"
   ]
  },
  {
   "cell_type": "markdown",
   "id": "ef5a4c1a-07f9-4bf9-992b-6d03eac2c65b",
   "metadata": {},
   "source": [
    "### Checking the frequency of ages and delivery time"
   ]
  },
  {
   "cell_type": "code",
   "execution_count": 97,
   "id": "8b284e3b-6cff-4759-8e30-e0c61c36bc85",
   "metadata": {},
   "outputs": [
    {
     "data": {
      "image/png": "[encoded data removed]",
      "text/plain": [
       "<Figure size 600x400 with 1 Axes>"
      ]
     },
     "metadata": {},
     "output_type": "display_data"
    }
   ],
   "source": [
    "plt.figure(figsize=(6, 4))\n",
    "sns.boxplot(data=df_grocery, x='agent_age')\n",
    "plt.title('Agent Age Distribution (Boxplot)')\n",
    "plt.tight_layout()\n",
    "plt.show()"
   ]
  },
  {
   "cell_type": "code",
   "execution_count": 98,
   "id": "fcc80d1f-5b39-4d10-a5a3-0781a9adf598",
   "metadata": {},
   "outputs": [
    {
     "ename": "NameError",
     "evalue": "name 'flag_outliers_iqr' is not defined",
     "output_type": "error",
     "traceback": [
      "\u001b[31m---------------------------------------------------------------------------\u001b[39m",
      "\u001b[31mNameError\u001b[39m                                 Traceback (most recent call last)",
      "\u001b[36mCell\u001b[39m\u001b[36m \u001b[39m\u001b[32mIn[98]\u001b[39m\u001b[32m, line 1\u001b[39m\n\u001b[32m----> \u001b[39m\u001b[32m1\u001b[39m df_grocery[\u001b[33m'\u001b[39m\u001b[33moutlier_delivery_time\u001b[39m\u001b[33m'\u001b[39m] = flag_outliers_iqr(df_grocery, \u001b[33m'\u001b[39m\u001b[33mdelivery_time\u001b[39m\u001b[33m'\u001b[39m)\n",
      "\u001b[31mNameError\u001b[39m: name 'flag_outliers_iqr' is not defined"
     ]
    }
   ],
   "source": [
    "df_grocery['outlier_delivery_time'] = flag_outliers_iqr(df_grocery, 'delivery_time')\n"
   ]
  },
  {
   "cell_type": "code",
   "execution_count": null,
   "id": "2654ade6-8fa1-4abe-95c2-91da2b17c62a",
   "metadata": {},
   "outputs": [],
   "source": [
    "sns.boxplot(data=df_grocery, x='delivery_time')"
   ]
  },
  {
   "cell_type": "code",
   "execution_count": null,
   "id": "ef47586d-cdb6-48e8-a9cf-400daf98eb21",
   "metadata": {},
   "outputs": [],
   "source": [
    "print(\"\"\"I flagged outliers using the IQR method but chose not to remove them yet. \n",
    "Some long deliveries may reflect real operational delays, differences in vehicles, weather, routes, time hours, distances, traffic, etc.  \n",
    "I recommend tracking these cases separately for future process improvement.\"\"\")\n"
   ]
  },
  {
   "cell_type": "markdown",
   "id": "973ce6e8-5bc7-4bca-8157-34c8e11d6b4d",
   "metadata": {},
   "source": [
    "### Comparing distance with delivery time"
   ]
  },
  {
   "cell_type": "code",
   "execution_count": null,
   "id": "bd0b2089-7b80-4061-8978-867f08d17faf",
   "metadata": {},
   "outputs": [],
   "source": [
    "def haversine_distance(lat1, lon1, lat2, lon2):\n",
    "    # Convert degrees to radians\n",
    "    lat1, lon1, lat2, lon2 = map(np.radians, [lat1, lon1, lat2, lon2])\n",
    "\n",
    "    # Haversine formula\n",
    "    dlat = lat2 - lat1\n",
    "    dlon = lon2 - lon1\n",
    "    a = np.sin(dlat / 2.0)**2 + np.cos(lat1) * np.cos(lat2) * np.sin(dlon / 2.0)**2\n",
    "    c = 2 * np.arcsin(np.sqrt(a))\n",
    "    r = 6371  # Radius of Earth in kilometers\n",
    "    return c * r\n",
    "\n",
    "# Create the new distance column\n",
    "df_grocery['distance'] = haversine_distance(\n",
    "    df_grocery['store_latitude'],\n",
    "    df_grocery['store_longitude'],\n",
    "    df_grocery['drop_latitude'],\n",
    "    df_grocery['drop_longitude']\n",
    ")"
   ]
  },
  {
   "cell_type": "code",
   "execution_count": null,
   "id": "8d605c94-b334-46ae-82ef-415fb5eac881",
   "metadata": {},
   "outputs": [],
   "source": [
    "df_grocery[['distance', 'delivery_time']].describe()"
   ]
  },
  {
   "cell_type": "code",
   "execution_count": null,
   "id": "241f9e2f-d2ca-4e48-ad04-25d34dc3850a",
   "metadata": {},
   "outputs": [],
   "source": [
    "# visualize the relationship\n",
    "plt.figure(figsize=(7, 5))\n",
    "sns.scatterplot(data=df_grocery, x='distance', y='delivery_time', alpha=0.5)\n",
    "plt.title('Delivery Time vs Distance')\n",
    "plt.xlabel('Distance (km)')\n",
    "plt.ylabel('Delivery Time (min)')\n",
    "plt.grid(True)\n",
    "plt.tight_layout()\n",
    "sns.regplot(data=df_grocery, x='distance', y='delivery_time', scatter_kws={'alpha':0.3})\n",
    "plt.show()"
   ]
  },
  {
   "cell_type": "code",
   "execution_count": null,
   "id": "11fd9993-d18c-466b-b468-1c0bee3573cf",
   "metadata": {},
   "outputs": [],
   "source": [
    "# Prepare numeric data (excluding lat/lon)\n",
    "numeric_cols = df_grocery.select_dtypes(include='number').drop(\n",
    "    columns=['store_latitude', 'store_longitude', 'drop_latitude', 'drop_longitude'],\n",
    "    errors='ignore'\n",
    ")\n",
    "\n",
    "# Compute correlation matrix\n",
    "corr = numeric_cols.corr()\n",
    "\n",
    "# Create a mask for the upper triangle\n",
    "mask = np.triu(np.ones_like(corr, dtype=bool))\n",
    "\n",
    "# Plot heatmap with mask\n",
    "plt.figure(figsize=(8, 6))\n",
    "sns.heatmap(\n",
    "    corr,\n",
    "    mask=mask,\n",
    "    annot=True,\n",
    "    fmt=\".2f\",\n",
    "    cmap='coolwarm',\n",
    "    linewidths=0.5,\n",
    "    square=True,\n",
    "    cbar_kws={\"shrink\": .8}\n",
    ")\n",
    "plt.title('📊 Correlation Matrix (Lower Triangle Only)', fontsize=14, pad=10)\n",
    "plt.xticks(rotation=45)\n",
    "plt.yticks(rotation=0)\n",
    "plt.tight_layout()\n",
    "plt.show()"
   ]
  },
  {
   "cell_type": "code",
   "execution_count": null,
   "id": "68f1a78b-94ae-42d4-963a-71c70365bd20",
   "metadata": {},
   "outputs": [],
   "source": [
    "print(\"\"\"delivery_time vs distance: \n",
    "    Surprisingly weak: Could indicate issues in your distance calculation, or that other factors (traffic, weather, vehicle) \n",
    "    are more dominant than raw km. \n",
    "    This one deserves deeper investigation.\n",
    "    \"\"\") \n",
    "\n",
    "print(\"\"\"agent_rating vs agent_age:\n",
    "    Older agents slightly tend to have lower ratings.\n",
    "    \"\"\")\n",
    "\n",
    "print(\"\"\"delivery_type vs agent_age:\n",
    "    Moderate positive: Older agents tend to take more time. \n",
    "    \"\"\")\n",
    "\n",
    "print(\"\"\"agent_rating vs delivery_time:\n",
    "    Very weak negative: Slight signal that longer deliveries get slightly lower ratings. But is not significant\n",
    "    \"\"\") \n",
    "\n",
    "print(\"\"\"distance vs agent_age:\n",
    "    No meaningful correlation: Agent age has no influence on delivery distance. Expected.\n",
    "    \"\"\") \n",
    "\n",
    "print(\"\"\"Takeaways:\n",
    "    - agent_age seems to have more influence than expected → worth segmenting.\n",
    "    - delivery_time vs distance → check the distance calculation or outliers.\n",
    "    - agent_rating is surprisingly flat across other features → maybe ratings aren’t sensitive to performance (or are biased/noisy).\n",
    "    \"\"\") "
   ]
  },
  {
   "cell_type": "markdown",
   "id": "dd84cb90-c01f-4f7a-bc77-2b2212c4bcb7",
   "metadata": {},
   "source": [
    "### Why this is worth segmenting (even if correlation ≠ causation)\n",
    "\n",
    "| Reason                     | Why it matters                                                                                 |\n",
    "|----------------------------|-----------------------------------------------------------------------------------------------|\n",
    "| **Behavioral insight**  | Older riders may deliver more carefully, slowly, or prefer certain shift times (e.g., off-peak). |\n",
    "| **Operational planning**| You may want to analyze efficiency by age group, especially for staffing or shift optimization. |\n",
    "| **Uncover hidden variables** | Age may be a proxy for experience, vehicle type, or part-time/full-time status.              |\n",
    "| **Fairness or bias**     | If customers rate older agents differently or system assigns tasks unevenly, it’s worth monitoring. |\n"
   ]
  },
  {
   "cell_type": "code",
   "execution_count": null,
   "id": "823d57d8-91dc-4d85-a2a2-d10495ba58a9",
   "metadata": {},
   "outputs": [],
   "source": []
  },
  {
   "cell_type": "markdown",
   "id": "6ee77af3-1b83-4f4f-aef5-b8123d72200f",
   "metadata": {},
   "source": [
    "### Delivery time (min) vs agent age"
   ]
  },
  {
   "cell_type": "code",
   "execution_count": null,
   "id": "6ff58bb8-1e0b-4d44-81a3-7448f13f9994",
   "metadata": {},
   "outputs": [],
   "source": [
    "# Create age group buckets\n",
    "df_grocery['age_group'] = pd.cut(\n",
    "    df_grocery['agent_age'], \n",
    "    bins=[18, 25, 35, 45, 55], \n",
    "    labels=['18-25', '26-35', '36-45', '46-55'])\n"
   ]
  },
  {
   "cell_type": "code",
   "execution_count": null,
   "id": "60172de7-ee9a-4231-9224-673e352b7855",
   "metadata": {},
   "outputs": [],
   "source": [
    "# Compare avg delivery time per age group\n",
    "df_grocery.groupby('age_group')['delivery_time'].describe()\n"
   ]
  },
  {
   "cell_type": "code",
   "execution_count": null,
   "id": "92587111-2238-4b4a-82b7-30c81791f857",
   "metadata": {},
   "outputs": [],
   "source": [
    "plt.figure(figsize=(7, 5))\n",
    "sns.boxplot(data=df_grocery, x='age_group', y='delivery_time')\n",
    "plt.title('Delivery Time by Age Group')\n",
    "plt.xlabel('Agent Age Group')\n",
    "plt.ylabel('Delivery Time (min)')\n",
    "plt.tight_layout()\n",
    "plt.show()\n"
   ]
  },
  {
   "cell_type": "code",
   "execution_count": null,
   "id": "ddf2fc90-d0fb-44dd-80bd-0c72d72adebd",
   "metadata": {},
   "outputs": [],
   "source": [
    "# Compare average rating per age group\n",
    "df_grocery.groupby('age_group')['agent_rating'].describe()\n"
   ]
  },
  {
   "cell_type": "markdown",
   "id": "96c77ce4-dce3-4152-8cbb-89a35506df1c",
   "metadata": {},
   "source": [
    "### Agent rating vs agent age"
   ]
  },
  {
   "cell_type": "code",
   "execution_count": null,
   "id": "d9d1f01d-a190-44f9-be68-3a657501f511",
   "metadata": {},
   "outputs": [],
   "source": [
    "plt.figure(figsize=(7, 5))\n",
    "sns.boxplot(data=df_grocery, x='age_group', y='agent_rating')\n",
    "plt.title('Agent Rating by Age Group')\n",
    "plt.xlabel('Agent Age Group')\n",
    "plt.ylabel('Customer Rating')\n",
    "plt.tight_layout()\n",
    "plt.show()\n"
   ]
  },
  {
   "cell_type": "markdown",
   "id": "3269eb61-412d-4db4-8c96-dfb01f09b7cf",
   "metadata": {},
   "source": [
    "Compare agent_age across:\n",
    "- route or distance (or define short vs long)\n",
    "- weather\n",
    "- traffic\n",
    "- vehicle\n",
    "- order_hour or time segment"
   ]
  },
  {
   "cell_type": "code",
   "execution_count": null,
   "id": "d5dfcd76-5035-422a-bee4-98aaef273804",
   "metadata": {},
   "outputs": [],
   "source": [
    "# Combine order date + order time → full datetime\n",
    "df_grocery['order_datetime'] = pd.to_datetime(\n",
    "    df_grocery['order_date'] + ' ' + df_grocery['order_time'],\n",
    "    errors='coerce'\n",
    ")\n",
    "\n",
    "# Combine order date + pickup time (assuming pickup is same day)\n",
    "df_grocery['pickup_datetime'] = pd.to_datetime(\n",
    "    df_grocery['order_date'] + ' ' + df_grocery['pickup_time'],\n",
    "    errors='coerce'\n",
    ")\n"
   ]
  },
  {
   "cell_type": "code",
   "execution_count": null,
   "id": "5e37e10e-505b-4b55-97c6-05dd72239896",
   "metadata": {},
   "outputs": [],
   "source": [
    "df_grocery['pickup_hour'] = df_grocery['pickup_datetime'].dt.hour\n",
    "\n",
    "df_grocery['time_of_day'] = pd.cut(\n",
    "    df_grocery['pickup_hour'],\n",
    "    bins=[-1, 6, 12, 18, 24],\n",
    "    labels=['Night', 'Morning', 'Afternoon', 'Evening']\n",
    ")\n"
   ]
  },
  {
   "cell_type": "code",
   "execution_count": null,
   "id": "8f4ec7e4-b8f9-4471-8f6c-491e5618949b",
   "metadata": {},
   "outputs": [],
   "source": [
    "df_grocery['order_to_pickup_min'] = (df_grocery['pickup_datetime'] - df_grocery['order_datetime']).dt.total_seconds() / 60\n"
   ]
  },
  {
   "cell_type": "code",
   "execution_count": null,
   "id": "9ec3503c-65e1-4383-8206-c156d254e46b",
   "metadata": {},
   "outputs": [],
   "source": []
  },
  {
   "cell_type": "markdown",
   "id": "ddbb08a2-e6cb-4297-bdc0-a35087217def",
   "metadata": {},
   "source": [
    "### Agent age vs time of the day (morning, afternoon, evening, night)"
   ]
  },
  {
   "cell_type": "code",
   "execution_count": null,
   "id": "4b758a3d-b53a-418e-8a6e-87265fd80555",
   "metadata": {},
   "outputs": [],
   "source": [
    "# agent age vs time of daysns.boxplot(data=df_grocery, x='time_of_day', y='agent_age')\n",
    "plt.title('Agent Age by Time of Day (Pickup)')\n",
    "plt.tight_layout()\n",
    "plt.show()\n"
   ]
  },
  {
   "cell_type": "markdown",
   "id": "4f2b27f0-73f3-4b56-a452-d023d6bd8097",
   "metadata": {},
   "source": [
    "### Time of the day (morning, afternoon, evening, night) vs delivery time (min)"
   ]
  },
  {
   "cell_type": "code",
   "execution_count": null,
   "id": "3be368ab-0cdc-4184-b8a8-20211740d418",
   "metadata": {},
   "outputs": [],
   "source": [
    "sns.boxplot(data=df_grocery, x='time_of_day', y='delivery_time')\n",
    "plt.title('Delivery Time by Time of Day')\n",
    "plt.tight_layout()\n",
    "plt.show()\n"
   ]
  },
  {
   "cell_type": "markdown",
   "id": "6e14fff1-929b-40a4-9402-824e41c97199",
   "metadata": {},
   "source": [
    "### Agent rating vs pickup hours"
   ]
  },
  {
   "cell_type": "code",
   "execution_count": null,
   "id": "29f79c6a-40be-4e96-bf9b-f78ae2d5bb16",
   "metadata": {},
   "outputs": [],
   "source": [
    "sns.boxplot(data=df_grocery, x='pickup_hour', y='agent_rating')\n",
    "plt.title('Agent Rating by Hour of Pickup')\n",
    "plt.tight_layout()\n",
    "plt.show()"
   ]
  },
  {
   "cell_type": "markdown",
   "id": "5fbe3b46-bf99-4ba0-9bfc-8fc8b57e4a2f",
   "metadata": {},
   "source": [
    "### Agent age vs number of deliver"
   ]
  },
  {
   "cell_type": "code",
   "execution_count": null,
   "id": "86741486-d18f-4544-9c14-eaf037d59adf",
   "metadata": {},
   "outputs": [],
   "source": [
    "# If you have age_group already created:\n",
    "sns.countplot(data=df_grocery, x='age_group', hue='vehicle')\n",
    "plt.title('Vehicle Type by Agent Age Group')\n",
    "plt.xlabel('Agent Age Group')\n",
    "plt.ylabel('Number of Deliveries')\n",
    "plt.tight_layout()\n",
    "plt.show()\n"
   ]
  },
  {
   "cell_type": "code",
   "execution_count": null,
   "id": "7ccc90a7-03ed-4ccf-8ed2-4b9abf0d5388",
   "metadata": {},
   "outputs": [],
   "source": [
    "# df_grocery['agent_age'].value_counts().sort_index()\n"
   ]
  },
  {
   "cell_type": "markdown",
   "id": "2ce76118-71aa-4875-adf3-df8ef13a3640",
   "metadata": {},
   "source": [
    "### Which features are most predictive or correlated with agent_rating?"
   ]
  },
  {
   "cell_type": "code",
   "execution_count": null,
   "id": "903e18c1-30d6-46d8-865b-109f660f6fac",
   "metadata": {},
   "outputs": [],
   "source": [
    "df_cleaned[['agent_rating', 'agent_age', 'delivery_time']].corr()\n"
   ]
  },
  {
   "cell_type": "code",
   "execution_count": null,
   "id": "fc0c67ba-4a07-4b54-905a-00f1785214db",
   "metadata": {},
   "outputs": [],
   "source": [
    "plt.figure(figsize=(5, 4))\n",
    "sns.heatmap(\n",
    "    df_cleaned[['agent_rating', 'agent_age', 'delivery_time']].corr(),\n",
    "    annot=True, cmap='coolwarm', fmt=\".2f\"\n",
    ")\n",
    "plt.title(\"Correlation Matrix\")\n",
    "plt.tight_layout()\n",
    "plt.show()\n"
   ]
  },
  {
   "cell_type": "code",
   "execution_count": null,
   "id": "9520b3ba-55e3-4bc0-beba-4911137d7ac6",
   "metadata": {},
   "outputs": [],
   "source": [
    "print(\"\"\" It is clear that delivery speed influences rider ratings. \n",
    "Older agents tend to have slightly lower ratings and also take longer to complete deliveries. \n",
    "This suggests that the lower ratings may be a consequence of longer delivery times rather than age itself.\n",
    "\n",
    "However, this analysis may be missing other important factors that impact customer satisfaction, \n",
    "such as keeping the customer informed during the delivery process, ensuring the groceries are delivered in good condition, \n",
    "and maintaining proper order and packaging. These qualitative aspects are not captured in the current\n",
    "dataset but are likely to play a significant role in how customers rate their experience.\"\"\")"
   ]
  },
  {
   "cell_type": "code",
   "execution_count": null,
   "id": "44075f1a-3349-46a7-9c3d-366de3175a6e",
   "metadata": {},
   "outputs": [],
   "source": []
  },
  {
   "cell_type": "markdown",
   "id": "44615318-18f3-4294-9cf1-678ef27eae34",
   "metadata": {},
   "source": [
    "### 📝 Insights on Agent Rating Drivers\n",
    "#### 📊 Key Findings\n",
    "**🕒 Time of Delivery**\n",
    "\n",
    "- Delivery times tend to be longer in the afternoon and evening, likely due to higher traffic volumes, increased order density, or rider fatigue as the day progresses.\n",
    "\n",
    "- Surprisingly, the correlation between delivery time and distance is weak, suggesting that factors such as traffic conditions, wait times at stores, and rider behavior may play a more significant role in total delivery duration than distance alone.\n",
    "\n",
    "**⭐ Delivery Speed and Customer Ratings**\n",
    "\n",
    "- Delivery speed appears to influence customer ratings significantly.\n",
    "\n",
    "- Older agents in the dataset tend to receive slightly lower ratings.\n",
    "\n",
    "- These agents also show longer average delivery times, which may explain the lower ratings.\n",
    "\n",
    "- This suggests that delivery duration, rather than age itself, may be the driving factor behind customer satisfaction scores.\n",
    "\n",
    "**⚠️ Limitations and Missing Factors**\n",
    "While this analysis covers numerical variables such as agent_age and delivery_time, it does not include qualitative factors that are likely to influence customer satisfaction. These include:\n",
    "\n",
    "- Whether the agent kept the customer informed throughout the delivery\n",
    "\n",
    "- The condition and organization of groceries upon arrival\n",
    "\n",
    "- The agent’s professionalism and politeness during handoff\n",
    "\n",
    "These aspects are not captured in the current dataset and would require additional data collection, such as:\n",
    "\n",
    "- Open-text feedback from customers\n",
    "\n",
    "- Post-delivery surveys\n",
    "\n",
    "- In-app interaction logs or complaint records"
   ]
  },
  {
   "cell_type": "code",
   "execution_count": null,
   "id": "de2534d6-097d-40fe-a2b1-3cbece0e15dc",
   "metadata": {},
   "outputs": [],
   "source": [
    "# df_grocery.to_csv('data/grocery_cleaned_coordinates.csv', index=False)\n",
    "\n"
   ]
  },
  {
   "cell_type": "code",
   "execution_count": null,
   "id": "ed88fe92-1e35-4aca-af49-283ea842ffa6",
   "metadata": {},
   "outputs": [],
   "source": [
    "\n",
    "import warnings\n",
    "with warnings.catch_warnings():\n",
    "    warnings.simplefilter(\"ignore\")\n",
    "    df_grocery['pickup_hour'] = pd.to_datetime(df_grocery['pickup_time'], errors='coerce').dt.hour\n",
    "\n"
   ]
  },
  {
   "cell_type": "code",
   "execution_count": 99,
   "id": "e8dc14b8-4bf3-4247-8236-363743043fb1",
   "metadata": {},
   "outputs": [
    {
     "name": "stdout",
     "output_type": "stream",
     "text": [
      "2022-02-11\n",
      "2022-04-06\n"
     ]
    }
   ],
   "source": [
    "# Check period of the dataset\n",
    "print(min(df['order_date']))\n",
    "print(max(df['order_date']))"
   ]
  },
  {
   "cell_type": "code",
   "execution_count": null,
   "id": "c30992f7-c2a2-403a-99c8-a4fd25b00c63",
   "metadata": {},
   "outputs": [],
   "source": [
    "\n"
   ]
  },
  {
   "cell_type": "code",
   "execution_count": null,
   "id": "b6998d01-005f-4db5-a16f-3e2993cff69b",
   "metadata": {},
   "outputs": [],
   "source": []
  },
  {
   "cell_type": "code",
   "execution_count": null,
   "id": "7af1ca04-ce35-46b9-866c-e2752f89c2de",
   "metadata": {},
   "outputs": [],
   "source": []
  },
  {
   "cell_type": "code",
   "execution_count": null,
   "id": "8afc44c5-11c0-4b9b-a324-807f765b7dd4",
   "metadata": {},
   "outputs": [],
   "source": []
  }
 ],
 "metadata": {
  "kernelspec": {
   "display_name": "Python (amazon_delivery)",
   "language": "python",
   "name": "amazon_delivery"
  },
  "language_info": {
   "codemirror_mode": {
    "name": "ipython",
    "version": 3
   },
   "file_extension": ".py",
   "mimetype": "text/x-python",
   "name": "python",
   "nbconvert_exporter": "python",
   "pygments_lexer": "ipython3",
   "version": "3.11.13"
  }
 },
 "nbformat": 4,
 "nbformat_minor": 5
}
